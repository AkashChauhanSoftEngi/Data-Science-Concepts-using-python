{
 "cells": [
  {
   "cell_type": "code",
   "execution_count": 48,
   "metadata": {},
   "outputs": [],
   "source": [
    "# Gradient Descent"
   ]
  },
  {
   "cell_type": "code",
   "execution_count": 58,
   "metadata": {},
   "outputs": [],
   "source": [
    "import numpy as np\n",
    "\n",
    "# values are from the range 0 to 2\n",
    "X = 2*np.random.random((100,1))"
   ]
  },
  {
   "cell_type": "code",
   "execution_count": 59,
   "metadata": {},
   "outputs": [],
   "source": [
    "# y according to the line with some noise\n",
    "\n",
    "y = 4 + 3 * X + .3*np.random.random((100,1))"
   ]
  },
  {
   "cell_type": "code",
   "execution_count": 60,
   "metadata": {},
   "outputs": [
    {
     "data": {
      "text/plain": [
       "array([[5.6665999],\n",
       "       [6.344213 ],\n",
       "       [5.1840811]])"
      ]
     },
     "execution_count": 60,
     "metadata": {},
     "output_type": "execute_result"
    }
   ],
   "source": [
    "y[:3]"
   ]
  },
  {
   "cell_type": "code",
   "execution_count": 61,
   "metadata": {},
   "outputs": [
    {
     "data": {
      "text/plain": [
       "array([[0.45961807],\n",
       "       [0.25190995],\n",
       "       [0.88209696]])"
      ]
     },
     "execution_count": 61,
     "metadata": {},
     "output_type": "execute_result"
    }
   ],
   "source": [
    "x[:3]"
   ]
  },
  {
   "cell_type": "code",
   "execution_count": 62,
   "metadata": {},
   "outputs": [
    {
     "data": {
      "image/png": "[encoded data removed]",
      "text/plain": [
       "<Figure size 792x288 with 1 Axes>"
      ]
     },
     "metadata": {
      "needs_background": "light"
     },
     "output_type": "display_data"
    }
   ],
   "source": [
    "from matplotlib import pyplot as plt\n",
    "\n",
    "# figure size 11 inches width and 4 inches height\n",
    "plt.figure(figsize=(11,4))\n",
    "plt.scatter(X,y)\n",
    "plt.show()\n",
    "\n",
    "#fig, ax = plt.subplots(figsize=(11,4))\n",
    "#ax.plot(x,y)\n",
    "\n",
    "#fig.savefig(\"test.png\")"
   ]
  },
  {
   "cell_type": "code",
   "execution_count": 90,
   "metadata": {},
   "outputs": [],
   "source": [
    "def sum(*args):\n",
    "    s = 0\n",
    "    for i in args:\n",
    "        s+=i\n",
    "    return s"
   ]
  },
  {
   "cell_type": "code",
   "execution_count": 76,
   "metadata": {},
   "outputs": [],
   "source": [
    "def diff(fn,x):\n",
    "    delta = 0.00000000001\n",
    "    y = fn(x)\n",
    "    \n",
    "    x1= x+delta\n",
    "    y1=fn(x1)\n",
    "    \n",
    "    return (y1-y)/delta"
   ]
  },
  {
   "cell_type": "code",
   "execution_count": 84,
   "metadata": {},
   "outputs": [],
   "source": [
    "def error(m,c,X,y):\n",
    "    ypredicted = m*X + c\n",
    "    err = ypredicted - y\n",
    "    return np.sum(err*err)"
   ]
  },
  {
   "cell_type": "code",
   "execution_count": 103,
   "metadata": {},
   "outputs": [],
   "source": [
    "def diffp(fn,idx,*args):\n",
    "    delta = 0.000000000001\n",
    "    y = fn(*args)\n",
    "    \n",
    "    args = list(args)\n",
    "    args[idx] += delta\n",
    "    \n",
    "    y1= fn(*args)\n",
    "    \n",
    "    return (y1-y)/delta"
   ]
  },
  {
   "cell_type": "code",
   "execution_count": 97,
   "metadata": {},
   "outputs": [
    {
     "data": {
      "text/plain": [
       "200"
      ]
     },
     "execution_count": 97,
     "metadata": {},
     "output_type": "execute_result"
    }
   ],
   "source": [
    "error(3,4,np.array([1,2,3]),np.array([1,2,3]))"
   ]
  },
  {
   "cell_type": "code",
   "execution_count": 92,
   "metadata": {},
   "outputs": [
    {
     "data": {
      "text/plain": [
       "3.0386687221619564"
      ]
     },
     "execution_count": 92,
     "metadata": {},
     "output_type": "execute_result"
    }
   ],
   "source": [
    "error(3,4,X,y)"
   ]
  },
  {
   "cell_type": "code",
   "execution_count": 93,
   "metadata": {},
   "outputs": [
    {
     "data": {
      "text/plain": [
       "2.051537952841875"
      ]
     },
     "execution_count": 93,
     "metadata": {},
     "output_type": "execute_result"
    }
   ],
   "source": [
    "error(3.04,4,X,y)"
   ]
  },
  {
   "cell_type": "code",
   "execution_count": 126,
   "metadata": {},
   "outputs": [],
   "source": [
    "def grad_fit(X,y):\n",
    "    m = np.random.random()\n",
    "    c = np.random.random()\n",
    "    learning_rate = 0.001\n",
    "    for i in range (100):\n",
    "        \n",
    "        #print(\"ith\", i, \"iteration: Error \", error(m,c,X,y))\n",
    "        dE_dm = diffp(error,0,m,c,X,y)\n",
    "        dE_dc = diffp(error,1,m,c,X,y)\n",
    "        \n",
    "        m = m - learning_rate*dE_dm\n",
    "        c = c - learning_rate*dE_dc\n",
    "        \n",
    "    return (m,c)"
   ]
  },
  {
   "cell_type": "code",
   "execution_count": 127,
   "metadata": {},
   "outputs": [
    {
     "data": {
      "text/plain": [
       "(3.028781435845956, 4.115367111135537)"
      ]
     },
     "execution_count": 127,
     "metadata": {},
     "output_type": "execute_result"
    }
   ],
   "source": [
    "m, c = grad_fit(X,y)\n",
    "m,c"
   ]
  },
  {
   "cell_type": "code",
   "execution_count": 130,
   "metadata": {},
   "outputs": [
    {
     "name": "stderr",
     "output_type": "stream",
     "text": [
      "/usr/local/anaconda/envs/tensorflow2/lib/python3.6/site-packages/ipykernel_launcher.py:15: MatplotlibDeprecationWarning: Adding an axes using the same arguments as a previous axes currently reuses the earlier instance.  In a future version, a new instance will always be created and returned.  Meanwhile, this warning can be suppressed, and the future behavior ensured, by passing a unique label to each axes instance.\n",
      "  from ipykernel import kernelapp as app\n"
     ]
    },
    {
     "data": {
      "image/png": "[encoded data removed]",
      "text/plain": [
       "<Figure size 792x288 with 1 Axes>"
      ]
     },
     "metadata": {
      "needs_background": "light"
     },
     "output_type": "display_data"
    }
   ],
   "source": [
    "from matplotlib import pyplot as plt\n",
    "\n",
    "x1=0\n",
    "x2=2\n",
    "\n",
    "\n",
    "# m and c: (3.0241528672739, 4.1209880945435415) respectively\n",
    "y1 = m*x1 + c\n",
    "y2 = m*x2 + c\n",
    "\n",
    "plt.figure(figsize=(11,4))\n",
    "plt.subplot()\n",
    "\n",
    "plt.plot([x1,x2],[y1,y2],color= 'r')\n",
    "plt.subplot()\n",
    "\n",
    "plt.scatter(X,y,color='b')\n",
    "plt.show()"
   ]
  },
  {
   "cell_type": "code",
   "execution_count": 135,
   "metadata": {},
   "outputs": [],
   "source": [
    "## generate data\n",
    "\n",
    "X = np.random.random((100,1))\n",
    "y = 4 + 3 * X + .3 * np.random.random((100,1))\n"
   ]
  },
  {
   "cell_type": "code",
   "execution_count": 136,
   "metadata": {},
   "outputs": [],
   "source": [
    "def neuron(w11,w12,x):\n",
    "    r = w11*x + w12\n",
    "    return r\n",
    "\n",
    "def forward_nn(w11,w12,w21,w22,x):\n",
    "    y1=neuron(w11,w12,x)\n",
    "    o1=neuron(w21,w22,y1)\n",
    "    return o1\n",
    "\n",
    "def sq_error(o1,yy):\n",
    "    err = o1-yy\n",
    "    return (err*err)\n",
    "\n",
    "def error_nn(w11,w12,w21,w22,x,yy):\n",
    "    o1 = forward_nn(w11,w12,w21,w22,x)\n",
    "    err = o1-yy\n",
    "    return (err*err)\n"
   ]
  },
  {
   "cell_type": "code",
   "execution_count": 138,
   "metadata": {},
   "outputs": [],
   "source": [
    "w11 = .5\n",
    "w12 = .5\n",
    "w21 = .5\n",
    "w22 = .5\n",
    "\n",
    "learning_rate = 0.001\n",
    "\n",
    "for epoch in range (100):\n",
    "    for i in range(len(X)):\n",
    "        x = X[i]\n",
    "        yy = y[i]\n",
    "        \n",
    "        dE_dw11 = diffp(error_nn,0,w11,w12,w21,w22,x,yy)\n",
    "        dE_dw12 = diffp(error_nn,1,w11,w12,w21,w22,x,yy)\n",
    "        dE_dw21 = diffp(error_nn,2,w11,w12,w21,w22,x,yy)\n",
    "        dE_dw22 = diffp(error_nn,3,w11,w12,w21,w22,x,yy)\n",
    "        \n",
    "        \n",
    "        # trying to find out perfect value of w11,w12,w21,w22 for best model\n",
    "        w11 = w11 - learning_rate*dE_dw11\n",
    "        w12 = w12 - learning_rate*dE_dw12\n",
    "        w21 = w21 - learning_rate*dE_dw21\n",
    "        w22 = w22 - learning_rate*dE_dw22"
   ]
  },
  {
   "cell_type": "code",
   "execution_count": 139,
   "metadata": {},
   "outputs": [],
   "source": [
    "ycap = forward_nn(w11,w12,w21,w22,X)"
   ]
  },
  {
   "cell_type": "code",
   "execution_count": 140,
   "metadata": {},
   "outputs": [
    {
     "name": "stderr",
     "output_type": "stream",
     "text": [
      "/usr/local/anaconda/envs/tensorflow2/lib/python3.6/site-packages/ipykernel_launcher.py:5: MatplotlibDeprecationWarning: Adding an axes using the same arguments as a previous axes currently reuses the earlier instance.  In a future version, a new instance will always be created and returned.  Meanwhile, this warning can be suppressed, and the future behavior ensured, by passing a unique label to each axes instance.\n",
      "  \"\"\"\n"
     ]
    },
    {
     "data": {
      "image/png": "[encoded data removed]",
      "text/plain": [
       "<Figure size 792x288 with 1 Axes>"
      ]
     },
     "metadata": {
      "needs_background": "light"
     },
     "output_type": "display_data"
    }
   ],
   "source": [
    "plt.figure(figsize=(11,4))\n",
    "plt.subplot()\n",
    "\n",
    "plt.plot(X,ycap,color= 'r')\n",
    "plt.subplot()\n",
    "\n",
    "plt.scatter(X,y,color='b')\n",
    "plt.show()"
   ]
  },
  {
   "cell_type": "code",
   "execution_count": 4,
   "metadata": {},
   "outputs": [],
   "source": [
    "## Further improvements on backpropagation\n",
    "import numpy as np\n",
    "\n",
    "X = np.random.random((100,1))\n",
    "y = 4 + 3 * X + .3 * np.random.random((100,1))\n",
    "\n",
    "w11 = .5\n",
    "w12 = .5\n",
    "w21 = .5\n",
    "w22 = .5\n",
    "\n",
    "def neuron(w11,w12,x):\n",
    "    # have not used activation function\n",
    "    r = w11*x + w12\n",
    "    return r\n",
    "\n",
    "def sq_error(o1,yy):\n",
    "    err = o1-yy\n",
    "    return (err*err)\n",
    "\n",
    "def diffp(fn,idx,*args):\n",
    "    delta = 0.000000000001\n",
    "    y = fn(*args)\n",
    "    \n",
    "    args = list(args)\n",
    "    args[idx] += delta\n",
    "    \n",
    "    y1= fn(*args)\n",
    "    \n",
    "    return (y1-y)/delta\n",
    "\n",
    "# learning rate\n",
    "eta = 0.01"
   ]
  },
  {
   "cell_type": "code",
   "execution_count": 7,
   "metadata": {},
   "outputs": [],
   "source": [
    "\n",
    "for epoch in range (50):\n",
    "    for i in range(len(X)):\n",
    "        x = X[i]\n",
    "        yy = y[i]\n",
    "        \n",
    "        h1 = neuron(w11,w12,x) # intermediate output\n",
    "        o1 = neuron(w21,w22,h1) # final output\n",
    "        \n",
    "        dE_do1 = diffp(sq_error,0,o1,yy)\n",
    "        do1_dw21 = diffp(neuron,0,w21,w22,h1)\n",
    "        dE_dw21 = dE_do1*do1_dw21\n",
    "        \n",
    "        do1_dw22 = diffp(neuron,1,w21,w22,h1)\n",
    "        dE_dw22 = dE_do1*do1_dw22\n",
    "        \n",
    "        do1_dh = diffp(neuron,2,w21,w22,h1)\n",
    "        dE_dh = dE_do1 * do1_dh\n",
    "        dh_dw11 = diffp(neuron,0,w11,w12,x)\n",
    "        dE_dw11 = dE_dh * dh_dw11\n",
    "        \n",
    "        dh_dw12 = diffp(neuron,1,w11,w12,x)\n",
    "        dE_dw12 = dE_do1 * do1_dh * dh_dw12\n",
    "        \n",
    "        # trying to find out perfect value of w11,w12,w21,w22 for best model\n",
    "        w11 = w11 - eta * dE_dw11\n",
    "        w12 = w12 - eta * dE_dw12\n",
    "        w21 = w21 - eta * dE_dw21\n",
    "        w22 = w22 - eta * dE_dw22"
   ]
  },
  {
   "cell_type": "code",
   "execution_count": 13,
   "metadata": {},
   "outputs": [
    {
     "name": "stderr",
     "output_type": "stream",
     "text": [
      "/usr/local/anaconda/envs/tensorflow2/lib/python3.6/site-packages/ipykernel_launcher.py:11: MatplotlibDeprecationWarning: Adding an axes using the same arguments as a previous axes currently reuses the earlier instance.  In a future version, a new instance will always be created and returned.  Meanwhile, this warning can be suppressed, and the future behavior ensured, by passing a unique label to each axes instance.\n",
      "  # This is added back by InteractiveShellApp.init_path()\n"
     ]
    },
    {
     "data": {
      "image/png": "[encoded data removed]",
      "text/plain": [
       "<Figure size 792x288 with 1 Axes>"
      ]
     },
     "metadata": {
      "needs_background": "light"
     },
     "output_type": "display_data"
    }
   ],
   "source": [
    "from matplotlib import pyplot as plt\n",
    "\n",
    "h1 = neuron(w11,w12,X)\n",
    "ycap1 = neuron(w21,w22,h1)\n",
    "\n",
    "\n",
    "plt.figure(figsize=(11,4))\n",
    "plt.subplot()\n",
    "\n",
    "plt.plot(X,ycap1,color= 'r')\n",
    "plt.subplot()\n",
    "\n",
    "plt.scatter(X,y,color='b')\n",
    "plt.show()"
   ]
  },
  {
   "cell_type": "code",
   "execution_count": null,
   "metadata": {},
   "outputs": [],
   "source": []
  }
 ],
 "metadata": {
  "kernelspec": {
   "display_name": "tensorflow2",
   "language": "python",
   "name": "tensorflow2"
  },
  "language_info": {
   "codemirror_mode": {
    "name": "ipython",
    "version": 3
   },
   "file_extension": ".py",
   "mimetype": "text/x-python",
   "name": "python",
   "nbconvert_exporter": "python",
   "pygments_lexer": "ipython3",
   "version": "3.6.8"
  },
  "toc": {
   "base_numbering": 1,
   "nav_menu": {},
   "number_sections": true,
   "sideBar": true,
   "skip_h1_title": false,
   "title_cell": "Table of Contents",
   "title_sidebar": "Contents",
   "toc_cell": false,
   "toc_position": {},
   "toc_section_display": true,
   "toc_window_display": false
  }
 },
 "nbformat": 4,
 "nbformat_minor": 2
}
